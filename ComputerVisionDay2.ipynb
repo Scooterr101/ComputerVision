{
 "cells": [
  {
   "cell_type": "markdown",
   "id": "8b8f4993",
   "metadata": {},
   "source": [
    "# Computer Vision Day 1"
   ]
  },
  {
   "cell_type": "code",
   "execution_count": 2,
   "id": "c7d311a6",
   "metadata": {},
   "outputs": [],
   "source": [
    "import cv2"
   ]
  },
  {
   "cell_type": "markdown",
   "id": "485e9345",
   "metadata": {},
   "source": [
    "- 비디오 캡처와 화면 표시(동영상파일)"
   ]
  },
  {
   "cell_type": "code",
   "execution_count": 6,
   "id": "ec41d399",
   "metadata": {},
   "outputs": [
    {
     "name": "stdout",
     "output_type": "stream",
     "text": [
      "(768, 576.0)\n"
     ]
    }
   ],
   "source": [
    "# cap = cv2.VideoCapture(0)\n",
    "# cap = cv2.VideoCapture('./data/vtest.avi') # 있던 비디오를 불러올 수 있음\n",
    "cap = cv2.VideoCapture('./data/vtest.avi') # 휴대폰 카메라가 보는걸 내 PC에서 불러와보자ㅇ\n",
    "\n",
    "# 0번 카메라란 뜻인데, 카메라 외에 스트리밍 URL, 파일, 다 가져올 수 있음\n",
    "# 0 으로 지정하면 컴퓨터 카메라를 지정하게 됨\n",
    "\n",
    "# 카메라 속성을 가져와보자\n",
    "# 카메라의 높이와 너비를 가져올 거야\n",
    "frame_size = (int(cap.get(cv2.CAP_PROP_FRAME_WIDTH)), (cap.get(cv2.CAP_PROP_FRAME_HEIGHT)))\n",
    "\n",
    "# cap.set(cv2.CAP_PROP_FRAME_WIDTH, 320)\n",
    "# cap.set(cv2.CAP_PROP_FRAME_HEIGHT, 240)\n",
    "\n",
    "\n",
    "print(frame_size)\n",
    "\n",
    "while True:\n",
    "    retval, frame = cap.read()\n",
    "    # print(retval) # 프레임을 캡처\n",
    "    if not retval: # retval = RETurn VAlue\n",
    "        break # 리턴밸류가 1이 아니면 멈춤. 1이어야 이미지를 가져오는거고 0이면 못가져오는거임\n",
    "        \n",
    "    # cv2.imshow(\"frame\", frame) # 위에서 계속 반복해서 읽어온걸 여기서 매번 보여줌\n",
    "    cv2.imshow(\"frame\", (255-frame))# 색상반전\n",
    "     \n",
    "        # 그냥 두면 너무 빠르니까 좀 기다리게 타이머를 두는 효과를 주자\n",
    "    key = cv2.waitKey(25) # 매번 25ms 를 기다림\n",
    "    if key == 27 : # ESC 키의 번호임\n",
    "        break\n",
    "            \n",
    "# 다 끝나고 나면 릴리즈를 해줘야 안전함\n",
    "\n",
    "if cap.isOpened(): # 캡 열려있니? 오픈되어있으면 1이 나옴\n",
    "    cap.release()\n",
    "    \n",
    "    \n",
    "cv2.destroyAllWindows()"
   ]
  },
  {
   "cell_type": "markdown",
   "id": "0a043234",
   "metadata": {},
   "source": [
    "- 비디오 캡처와 화면 표시(휴대폰 카메라 영상) : DroidCam"
   ]
  },
  {
   "cell_type": "code",
   "execution_count": 7,
   "id": "a80fa073",
   "metadata": {},
   "outputs": [
    {
     "name": "stdout",
     "output_type": "stream",
     "text": [
      "(640, 480.0)\n"
     ]
    }
   ],
   "source": [
    "# cap = cv2.VideoCapture(0)\n",
    "# cap = cv2.VideoCapture('./data/vtest.avi') # 있던 비디오를 불러올 수 있음\n",
    "cap = cv2.VideoCapture('http://172.30.1.26:4747/mjpegfeed') # 휴대폰 카메라가 보는걸 내 PC에서 불러와보자\n",
    "# 아이폰은 jpegfeed 말고 videofeed 로 할 것\n",
    "\n",
    "# 0번 카메라란 뜻인데, 카메라 외에 스트리밍 URL, 파일, 다 가져올 수 있음\n",
    "# 0 으로 지정하면 컴퓨터 카메라를 지정하게 됨\n",
    "\n",
    "# 카메라 속성을 가져와보자\n",
    "# 카메라의 높이와 너비를 가져올 거야\n",
    "frame_size = (int(cap.get(cv2.CAP_PROP_FRAME_WIDTH)), (cap.get(cv2.CAP_PROP_FRAME_HEIGHT)))\n",
    "\n",
    "# cap.set(cv2.CAP_PROP_FRAME_WIDTH, 320)\n",
    "# cap.set(cv2.CAP_PROP_FRAME_HEIGHT, 240)\n",
    "\n",
    "\n",
    "print(frame_size)\n",
    "\n",
    "while True:\n",
    "    retval, frame = cap.read()\n",
    "    # print(retval) # 프레임을 캡처\n",
    "    if not retval: # retval = RETurn VAlue\n",
    "        break # 리턴밸류가 1이 아니면 멈춤. 1이어야 이미지를 가져오는거고 0이면 못가져오는거임\n",
    "        \n",
    "    cv2.imshow(\"frame\", frame) # 위에서 계속 반복해서 읽어온걸 여기서 매번 보여줌\n",
    "    # cv2.imshow(\"frame\", (255-frame))# 색상반전\n",
    "     \n",
    "        # 그냥 두면 너무 빠르니까 좀 기다리게 타이머를 두는 효과를 주자\n",
    "    key = cv2.waitKey(25) # 매번 25ms 를 기다림\n",
    "    if key == 27 : # ESC 키의 번호임\n",
    "        break\n",
    "            \n",
    "# 다 끝나고 나면 릴리즈를 해줘야 안전함\n",
    "\n",
    "if cap.isOpened(): # 캡 열려있니? 오픈되어있으면 1이 나옴\n",
    "    cap.release()\n",
    "    \n",
    "    \n",
    "cv2.destroyAllWindows()"
   ]
  },
  {
   "cell_type": "markdown",
   "id": "a2f3e84e",
   "metadata": {},
   "source": [
    "- 비디오 캡처와 화면 표시 (유튜브 동영상)"
   ]
  },
  {
   "cell_type": "code",
   "execution_count": 8,
   "id": "4de9203f",
   "metadata": {},
   "outputs": [],
   "source": [
    "import pafy"
   ]
  },
  {
   "cell_type": "code",
   "execution_count": 9,
   "id": "58ab27a0",
   "metadata": {},
   "outputs": [],
   "source": [
    "url = \"https://www.youtube.com/watch?v=XuUu4gXQcaA&t=363s\""
   ]
  },
  {
   "cell_type": "code",
   "execution_count": 10,
   "id": "d84b43ad",
   "metadata": {},
   "outputs": [],
   "source": [
    "video = pafy.new(url)"
   ]
  },
  {
   "cell_type": "code",
   "execution_count": 11,
   "id": "5fa528f4",
   "metadata": {},
   "outputs": [
    {
     "name": "stdout",
     "output_type": "stream",
     "text": [
      "title =  요즘 여학생들은 무슨 노래 부르니?ㅎ (Feat. 이영현) | ODG\n",
      "rating =  4.9463835\n",
      "duration =  00:08:08\n"
     ]
    }
   ],
   "source": [
    "print('title = ', video.title)\n",
    "print('rating = ', video.rating)\n",
    "print('duration = ', video.duration)"
   ]
  },
  {
   "cell_type": "code",
   "execution_count": 12,
   "id": "26ac3008",
   "metadata": {},
   "outputs": [],
   "source": [
    "best = video.getbest()"
   ]
  },
  {
   "cell_type": "code",
   "execution_count": 13,
   "id": "ce37687e",
   "metadata": {},
   "outputs": [
    {
     "name": "stdout",
     "output_type": "stream",
     "text": [
      "best resolution =  1280x720\n"
     ]
    }
   ],
   "source": [
    "print(\"best resolution = \", best.resolution)"
   ]
  },
  {
   "cell_type": "code",
   "execution_count": 14,
   "id": "06859a47",
   "metadata": {},
   "outputs": [],
   "source": [
    "cap = cv2.VideoCapture(best.url)\n",
    "\n",
    "while True:\n",
    "    retval, frame = cap.read()\n",
    "    if not retval:\n",
    "        break\n",
    "        \n",
    "    cv2.imshow(\"frame\", frame)\n",
    "    \n",
    "    key = cv2.waitKey(25)\n",
    "    if key == 27 :\n",
    "        break\n",
    "            \n",
    "if cap.isOpened():\n",
    "    cap.release()\n",
    "    \n",
    "    \n",
    "cv2.destroyAllWindows()"
   ]
  },
  {
   "cell_type": "markdown",
   "id": "f54f671d",
   "metadata": {},
   "source": [
    "- 비디오 파일의 저장"
   ]
  },
  {
   "cell_type": "code",
   "execution_count": 29,
   "id": "b85c37e7",
   "metadata": {},
   "outputs": [
    {
     "name": "stdout",
     "output_type": "stream",
     "text": [
      "(640, 480)\n"
     ]
    }
   ],
   "source": [
    "cap = cv2.VideoCapture(0)\n",
    "\n",
    "frame_size = (int(cap.get(cv2.CAP_PROP_FRAME_WIDTH)), int(cap.get(cv2.CAP_PROP_FRAME_HEIGHT)))\n",
    "\n",
    "# 요부분 양쪽 다 int 들어가야 되는데 앞에서는 필요없어서 빼먹고 해도 됐던거임\n",
    "\n",
    "print(frame_size)\n",
    "\n",
    "fourcc = cv2.VideoWriter_fourcc(*'XVID')\n",
    "\n",
    "fps = 20.0\n",
    "\n",
    "out = cv2.VideoWriter('./out/record.mp4', fourcc, fps, frame_size)"
   ]
  },
  {
   "cell_type": "code",
   "execution_count": 30,
   "id": "743d576b",
   "metadata": {},
   "outputs": [],
   "source": [
    "while True:\n",
    "    retval, frame = cap.read()\n",
    "    if not retval:\n",
    "        break\n",
    "        \n",
    "    cv2.imshow(\"frame\", frame)\n",
    "    \n",
    "    key = cv2.waitKey(25)\n",
    "    if key == 27 :\n",
    "        break\n",
    "            \n",
    "if cap.isOpened():\n",
    "    cap.release()\n",
    "    \n",
    "    \n",
    "cv2.destroyAllWindows()"
   ]
  },
  {
   "cell_type": "code",
   "execution_count": 7,
   "id": "77829bd9",
   "metadata": {},
   "outputs": [
    {
     "name": "stdout",
     "output_type": "stream",
     "text": [
      "(640, 480)\n"
     ]
    }
   ],
   "source": [
    "cap = cv2.VideoCapture(0)\n",
    "\n",
    "frame_size = (int(cap.get(cv2.CAP_PROP_FRAME_WIDTH)), int(cap.get(cv2.CAP_PROP_FRAME_HEIGHT)))\n",
    "\n",
    "# 요부분 양쪽 다 int 들어가야 되는데 앞에서는 필요없어서 빼먹고 해도 됐던거임\n",
    "\n",
    "print(frame_size)\n",
    "\n",
    "fourcc = cv2.VideoWriter_fourcc(*'XVID')\n",
    "\n",
    "fps = 5.0\n",
    "\n",
    "out1 = cv2.VideoWriter('./out/record1.mp4', fourcc, fps, frame_size)\n",
    "out2 = cv2.VideoWriter('./out/record2.mp4', fourcc, fps, frame_size, isColor=False)\n",
    "\n",
    "while True:\n",
    "    retval, frame = cap.read()\n",
    "    if not retval:\n",
    "        break\n",
    "        \n",
    "    cv2.imshow(\"frame\", frame)\n",
    "    \n",
    "    out1.write(frame)\n",
    "    \n",
    "    gray = cv2.cvtColor(frame, cv2.COLOR_BGR2GRAY)\n",
    "    out2.write(gray)\n",
    "    \n",
    "    key = cv2.waitKey(25)\n",
    "    if key == 27 :\n",
    "        break\n",
    "            \n",
    "if cap.isOpened():\n",
    "    cap.release()\n",
    "    \n",
    "out1.release()\n",
    "out2.release()\n",
    "cv2.destroyAllWindows()"
   ]
  },
  {
   "cell_type": "code",
   "execution_count": 8,
   "id": "74dfe726",
   "metadata": {},
   "outputs": [],
   "source": [
    "# 위에 1개 실행한거 저장이 제대로 안됐엉"
   ]
  },
  {
   "cell_type": "markdown",
   "id": "87598ff8",
   "metadata": {},
   "source": [
    "- 비디오 파일 저장 (유튜브에서 다운로드 받은 파일 또는 드로이드캠으로 얻어온 영상"
   ]
  },
  {
   "cell_type": "code",
   "execution_count": 9,
   "id": "b0c5dc8d",
   "metadata": {},
   "outputs": [],
   "source": [
    "# 연습해보기"
   ]
  },
  {
   "cell_type": "markdown",
   "id": "b9a58cf9",
   "metadata": {},
   "source": [
    "# 그래픽 및 이벤트 처리"
   ]
  },
  {
   "cell_type": "code",
   "execution_count": 10,
   "id": "bedab9c3",
   "metadata": {},
   "outputs": [],
   "source": [
    "import numpy as np"
   ]
  },
  {
   "cell_type": "markdown",
   "id": "ad9822bb",
   "metadata": {},
   "source": [
    "* 직선과 사각형 그려보기"
   ]
  },
  {
   "cell_type": "code",
   "execution_count": 15,
   "id": "124848b5",
   "metadata": {},
   "outputs": [],
   "source": [
    "img = np.zeros((512,512,3), dtype = np.uint8) + 255\n",
    "\n",
    "pt1 = 100, 400\n",
    "pt2 = 400, 100\n",
    "\n",
    "b = 0\n",
    "g = 255\n",
    "r = 0\n",
    "\n",
    "cv2.rectangle(img, pt1, pt2, (b, g, r), 2) # 2는 선의 굵기\n",
    "cv2.imshow('img', img)\n",
    "cv2.waitKey()\n",
    "cv2.destroyAllWindows()"
   ]
  },
  {
   "cell_type": "code",
   "execution_count": 24,
   "id": "e8aabe65",
   "metadata": {},
   "outputs": [],
   "source": [
    "img = np.zeros((512,512,3), dtype = np.uint8) + 255\n",
    "\n",
    "pt1 = 100, 100\n",
    "pt2 = 400, 400\n",
    "\n",
    "pt3 = 0, 0\n",
    "pt4 = 500, 0\n",
    "\n",
    "pt5 = 0, 0\n",
    "pt6 = 0, 500\n",
    "\n",
    "# b = 0\n",
    "# g = 255\n",
    "# r = 0\n",
    "\n",
    "b = np.random.randint(256)\n",
    "g = np.random.randint(256)\n",
    "r = np.random.randint(256)\n",
    "\n",
    "cv2.rectangle(img, pt1, pt2, (r, g, b), 2) # 2는 선의 굵기\n",
    "\n",
    "cv2.line(img, pt3, pt4, (b,g,r), 5)\n",
    "\n",
    "cv2.line(img, pt5, pt6, (g,r,b), 5)\n",
    "\n",
    "cv2.imshow('img', img)\n",
    "cv2.waitKey()\n",
    "cv2.destroyAllWindows()"
   ]
  },
  {
   "cell_type": "markdown",
   "id": "3ea665b0",
   "metadata": {},
   "source": [
    "- 직선과 사각형 교차점 만들기"
   ]
  },
  {
   "cell_type": "code",
   "execution_count": 30,
   "id": "6e8d73c0",
   "metadata": {},
   "outputs": [],
   "source": [
    "img = np.zeros((512,512,3), dtype = np.uint8) + 255\n",
    "\n",
    "x1, y1 = 100, 100\n",
    "x2, y2 = 400, 400\n",
    "\n",
    "# b = 0\n",
    "# g = 255\n",
    "# r = 0\n",
    "\n",
    "b = np.random.randint(256)\n",
    "g = np.random.randint(256)\n",
    "r = np.random.randint(256)\n",
    "\n",
    "cv2.rectangle(img, (x1, y1), (x2, y2), (r, g, b), 2) # 2는 선의 굵기\n",
    "\n",
    "\n",
    "x3, y3 = 120, 50\n",
    "x4, y4 = 300, 500\n",
    "\n",
    "cv2.line(img, (x3, y3), (x4, y4), (b,g,r), 2)\n",
    "\n",
    "imgRect = (x1, y1, x2-x1, y2-y1)\n",
    "retval, rpt1, rpt2 = cv2.clipLine(imgRect, (x3, y3), (x4, y4))\n",
    "\n",
    "if retval:\n",
    "    cv2.circle(img, rpt1, radius=10, color=(b, g, r), thickness=-1)\n",
    "    cv2.circle(img, rpt2, radius=10, color=(b, g, r), thickness=-1)\n",
    "\n",
    "cv2.imshow('img', img)\n",
    "cv2.waitKey()\n",
    "cv2.destroyAllWindows()"
   ]
  },
  {
   "cell_type": "markdown",
   "id": "b990c491",
   "metadata": {},
   "source": [
    "- 원그리기"
   ]
  },
  {
   "cell_type": "code",
   "execution_count": 42,
   "id": "91cb126f",
   "metadata": {},
   "outputs": [],
   "source": [
    "img = np.zeros((512,512,3), dtype = np.uint8) + 255\n",
    "\n",
    "cx = img.shape[0] // 2\n",
    "cy = img.shape[1] // 2\n",
    "\n",
    "# r = 200\n",
    "for r in range(200, 0, -100):\n",
    "    cv2.circle(img, (cx, cy), r, color=(255,0,0), thickness=2)\n",
    "    \n",
    "cv2.circle(img, (cx, cy), 50, color=(0,0,255), thickness=-1)\n",
    "\n",
    "cv2.imshow('img', img)\n",
    "cv2.waitKey()\n",
    "cv2.destroyAllWindows()"
   ]
  },
  {
   "cell_type": "code",
   "execution_count": 35,
   "id": "5dc2e11e",
   "metadata": {},
   "outputs": [],
   "source": [
    "cx = img.shape[0] // 2"
   ]
  },
  {
   "cell_type": "code",
   "execution_count": 36,
   "id": "f72d5f26",
   "metadata": {},
   "outputs": [],
   "source": [
    "cy = img.shape[1] // 2"
   ]
  },
  {
   "cell_type": "code",
   "execution_count": 34,
   "id": "15db7cf5",
   "metadata": {},
   "outputs": [
    {
     "data": {
      "text/plain": [
       "3"
      ]
     },
     "execution_count": 34,
     "metadata": {},
     "output_type": "execute_result"
    }
   ],
   "source": [
    "img.shape[2]"
   ]
  },
  {
   "cell_type": "markdown",
   "id": "e994cde8",
   "metadata": {},
   "source": [
    "- 타원그리기"
   ]
  },
  {
   "cell_type": "code",
   "execution_count": 47,
   "id": "da5508e4",
   "metadata": {},
   "outputs": [],
   "source": [
    "img = np.zeros((512,512,3), dtype = np.uint8) + 255\n",
    "\n",
    "cx = img.shape[0] // 2\n",
    "cy = img.shape[1] // 2\n",
    "\n",
    "size = 200, 100\n",
    "cv2.ellipse(img, (cx, cy), size, 0, 0, 360, (0,0,255))\n",
    "cv2.ellipse(img, (cx, cy), size, 45, 0, 360, (255,0,0))\n",
    "cv2.ellipse(img, (cx, cy), size, 90, 0, 360, (0,255,0))\n",
    "cv2.ellipse(img, (cx, cy), size, 135, 0, 360, (255,255,0))\n",
    "\n",
    "\n",
    "cv2.imshow('img', img)\n",
    "cv2.waitKey()\n",
    "cv2.destroyAllWindows()"
   ]
  },
  {
   "cell_type": "code",
   "execution_count": 48,
   "id": "c8d4b052",
   "metadata": {},
   "outputs": [],
   "source": [
    "# 박스에 맞춰서 타원을 그려보자"
   ]
  },
  {
   "cell_type": "code",
   "execution_count": 53,
   "id": "b9ff771d",
   "metadata": {},
   "outputs": [],
   "source": [
    "img = np.zeros((512,512,3), dtype = np.uint8) + 255\n",
    "\n",
    "cx = img.shape[0] // 2\n",
    "cy = img.shape[1] // 2\n",
    "\n",
    "size = 200, 100\n",
    "\n",
    "cv2.ellipse(img, (cx, cy), size, 0, 0, 360, (0,0,255))\n",
    "cv2.ellipse(img, (cx, cy), size, 45, 0, 360, (255,0,0))\n",
    "cv2.ellipse(img, (cx, cy), size, 90, 0, 360, (0,255,0))\n",
    "cv2.ellipse(img, (cx, cy), size, 135, 0, 360, (255,255,0))\n",
    "\n",
    "box = ((cx, cy), size, 0)\n",
    "cv2.ellipse(img, box, (100, 100, 255), 5)\n",
    "\n",
    "box = ((cx, cy), size, 45)\n",
    "cv2.ellipse(img, box, (130, 0, 130), 5)\n",
    "\n",
    "cv2.imshow('img', img)\n",
    "cv2.waitKey()\n",
    "cv2.destroyAllWindows()"
   ]
  },
  {
   "cell_type": "markdown",
   "id": "bdc92340",
   "metadata": {},
   "source": [
    "- 다각형 그리기"
   ]
  },
  {
   "cell_type": "code",
   "execution_count": 56,
   "id": "59c31fb4",
   "metadata": {},
   "outputs": [],
   "source": [
    "img = np.zeros((512,512,3), dtype = np.uint8) + 255\n",
    "\n",
    "pts1 = np.array([[100, 100], [200, 100], [200, 200], [100, 200]]) # 점에 순서 있음\n",
    "pts2 = np.array([[300, 200], [400, 100], [400, 200]])\n",
    "\n",
    "\n",
    "cv2.polylines(img, [pts1, pts2], isClosed=True, color =(255,0,0)) # pts 자리에 여러 좌표를 넣을 수 있으니까 대괄호를 해줘야함\n",
    "\n",
    "cv2.imshow('img', img)\n",
    "cv2.waitKey()\n",
    "cv2.destroyAllWindows()"
   ]
  },
  {
   "cell_type": "code",
   "execution_count": 57,
   "id": "5aaa9b4b",
   "metadata": {},
   "outputs": [],
   "source": [
    "# 타원 안에 다각형을 그려보자"
   ]
  },
  {
   "cell_type": "code",
   "execution_count": 61,
   "id": "4d1afa6e",
   "metadata": {},
   "outputs": [],
   "source": [
    "img = np.zeros((512,512,3), dtype = np.uint8) + 255\n",
    "\n",
    "cx = img.shape[0] // 2\n",
    "cy = img.shape[1] // 2\n",
    "\n",
    "size = 200, 100\n",
    "\n",
    "cv2.ellipse(img, (cx, cy), size, 0, 0, 360, (0,0,255))\n",
    "pts3 = cv2.ellipse2Poly((cx, cy), size, 0, 0, 360, delta = 45) # 점만 구하는거라 색깔은 안 줘도 돼 # 델타는 다각형의 내각이야\n",
    "\n",
    "cv2.ellipse(img, (cx, cy), size, 45, 0, 360, (255,0,0))\n",
    "pts4 = cv2.ellipse2Poly((cx, cy), size, 45, 0, 360, delta = 45)\n",
    "\n",
    "cv2.polylines(img, [pts3], isClosed=True, color =(0,255,0))\n",
    "cv2.polylines(img, [pts4], isClosed=True, color =(255,255,0))\n",
    "\n",
    "cv2.imshow('img', img)\n",
    "cv2.waitKey()\n",
    "cv2.destroyAllWindows()"
   ]
  },
  {
   "cell_type": "code",
   "execution_count": 66,
   "id": "89a9822c",
   "metadata": {},
   "outputs": [],
   "source": [
    "img = np.zeros((512,512,3), dtype = np.uint8) + 255\n",
    "\n",
    "cx = img.shape[0] // 2\n",
    "cy = img.shape[1] // 2\n",
    "\n",
    "size = 200, 200\n",
    "\n",
    "for angle in range(0, 90, 10):\n",
    "    box = ((cx, cy), size, angle)\n",
    "    pts5 = cv2.boxPoints(box).astype(np.int32)\n",
    "    \n",
    "    b = np.random.randint(256)\n",
    "    g = np.random.randint(256)\n",
    "    r = np.random.randint(256)\n",
    "\n",
    "    cv2.polylines(img, [pts5], isClosed=True, color =(b, g, r))\n",
    "    \n",
    "cv2.imshow('img', img)\n",
    "cv2.waitKey()\n",
    "cv2.destroyAllWindows()"
   ]
  },
  {
   "cell_type": "code",
   "execution_count": 70,
   "id": "fb6f2945",
   "metadata": {},
   "outputs": [],
   "source": [
    "img = np.zeros((512,512,3), dtype = np.uint8) + 255\n",
    "\n",
    "pts1 = np.array([[100, 100], [200, 100], [200, 200], [100, 200]]) # 점에 순서 있음\n",
    "pts2 = np.array([[300, 200], [400, 100], [400, 200]])\n",
    "\n",
    "\n",
    "# cv2.fillConvexPoly(img, pts1, color=(255,0,0)) # 색깔 채워넣어주기\n",
    "\n",
    "cv2.fillPoly(img, [pts1, pts2], color=(0,0,255))\n",
    "\n",
    "cv2.imshow('img', img)\n",
    "cv2.waitKey()\n",
    "cv2.destroyAllWindows()"
   ]
  },
  {
   "cell_type": "markdown",
   "id": "1eae5eae",
   "metadata": {},
   "source": [
    "#### 실습"
   ]
  },
  {
   "cell_type": "code",
   "execution_count": null,
   "id": "267600a8",
   "metadata": {},
   "outputs": [],
   "source": [
    "img = np.zeros(shape=(1024,512,3), dtype=np.unit8) + 255\n",
    "\n",
    "\n",
    "\n",
    "cv2.imshow('img', img)\n",
    "cv2.waitKey()\n",
    "cv2.destroyAllWindows()"
   ]
  },
  {
   "cell_type": "code",
   "execution_count": 71,
   "id": "74dcb787",
   "metadata": {},
   "outputs": [],
   "source": [
    "img = np.zeros((900, 600, 3), dtype=np.uint8) + 255\n",
    "\n",
    "cx1 = 400\n",
    "cy1 = 200\n",
    "cx2 = 150\n",
    "cy2 = 470\n",
    "pts1 = np.array([[100, 300], [100, 350], [200, 350], [200, 300]])\n",
    "pts2 = np.array([[300, 450], [350, 450], [350, 500], [400, 500], [400, 550], [300, 550]])\n",
    "pt1 = np.array([100, 100])\n",
    "pt2 = np.array([200, 150])\n",
    "\n",
    "size= 100, 50\n",
    "\n",
    "cv2.rectangle(img, pt1, pt2, (0, 0, 255), 2)\n",
    "cv2.fillPoly(img, [pts1], color=(0, 0, 100)) #안이 채워지는 poly 채워야하기에 isclosed를 안건드려도 된다.\n",
    "cv2.circle(img, (cx1, cy1), radius=80, color=(255, 0, 0), thickness=6)\n",
    "cv2.circle(img, (cx1, cy1), radius=40, color=(255, 200, 0), thickness=-1)\n",
    "cv2.ellipse(img, (cx2, cy2), size, 30, 0, 360, (0, 255, 0), thickness=4)\n",
    "cv2.ellipse(img, (cx2, cy2), (50, 25), 30, 0, 270, (255, 200, 0), thickness=-1)\n",
    "cv2.polylines(img, [pts2], isClosed=True, color=(200, 0, 200))\n",
    "\n",
    "cv2.imshow('img', img)\n",
    "cv2.waitKey()\n",
    "cv2.destroyAllWindows()"
   ]
  },
  {
   "cell_type": "code",
   "execution_count": 72,
   "id": "8225b15f",
   "metadata": {},
   "outputs": [],
   "source": [
    "img = np.zeros((512, 512, 3), dtype=np.uint8) + 255 \n",
    "\n",
    "x1, y1 = 50, 50\n",
    "x2, y2 = 150, 100\n",
    "\n",
    "cv2.rectangle(img, (x1, y1), (x2, y2), (0, 0, 255), 2)\n",
    "cv2.rectangle(img, (x1, y1+100), (x2, y2+100), (0, 0, 255), -1)\n",
    "\n",
    "cx, cy = 300, 130\n",
    "r = 60\n",
    "cv2.circle(img, (cx, cy), r, (255, 0, 0), 3)\n",
    "cv2.circle(img, (cx, cy), r-30, (200, 200, 0), -1)\n",
    "\n",
    "cx2, cy2 = 110,300\n",
    "size = 90, 50\n",
    "size2 = 50, 30\n",
    "cv2.ellipse(img, (cx2, cy2), size, 20, 0, 360, (0, 255, 0), 2)\n",
    "cv2.ellipse(img, (cx2, cy2), size2, 20, 0, 270, (200, 200, 0), -1)\n",
    "\n",
    "x3, y3 = 250, 250\n",
    "pts1 = np.array([[x3, y3], [x3, y3+110], [x3+110, y3+110], [x3+110, y3+55], [x3+55, y3+55], [x3+55, y3]])\n",
    "cv2.polylines(img, [pts1], isClosed=True, color=(150, 0, 150))\n",
    "\n",
    "cv2.imshow('img', img)\n",
    "cv2.waitKey()\n",
    "cv2.destroyAllWindows()"
   ]
  },
  {
   "cell_type": "code",
   "execution_count": 73,
   "id": "9e772efd",
   "metadata": {},
   "outputs": [],
   "source": [
    "img = np.zeros((512, 512, 3), dtype = np.uint8) + 255\n",
    "\n",
    "pts1 = 50, 50\n",
    "pts2 = 200, 100\n",
    "\n",
    "pts3 = 50, 150\n",
    "pts4 = 200, 200\n",
    "\n",
    "pts5 = np.array([[300, 250], [350, 250], [350, 300], [400, 300], [400, 350], [300, 350]])\n",
    "\n",
    "cx, cy = 150, 300\n",
    "cx2, cy2 = 350, 100\n",
    "\n",
    "size = 100, 50\n",
    "size2 = 60, 30\n",
    "\n",
    "\n",
    "cv2.rectangle(img, pts1, pts2, (0, 0, 255), 2)\n",
    "cv2.rectangle(img, pts3, pts4, (0, 0, 50), -1)\n",
    "cv2.ellipse(img, (cx, cy), size, 20, 0, 360, color=(0, 150, 0), thickness=2)\n",
    "cv2.ellipse(img, (cx, cy), size2, 20, 0, 270, color=(235, 206, 135), thickness=-1)\n",
    "cv2.circle(img, (cx2, cy2), 60, color=(139, 0, 0), thickness= 3)\n",
    "cv2.circle(img, (cx2, cy2), 30, color=(235, 206, 135), thickness= -1)\n",
    "cv2.polylines(img, [pts5], isClosed = True, color=(128, 0, 128), thickness=2)\n",
    "\n",
    "cv2.imshow('img', img)\n",
    "cv2.waitKey()\n",
    "cv2.destroyAllWindows()"
   ]
  },
  {
   "cell_type": "markdown",
   "id": "94435751",
   "metadata": {},
   "source": [
    "* 문자열 출력"
   ]
  },
  {
   "cell_type": "code",
   "execution_count": 80,
   "id": "69664dcf",
   "metadata": {},
   "outputs": [],
   "source": [
    "img = np.zeros((512, 512, 3), dtype = np.uint8) + 255\n",
    "\n",
    "text = 'OpenCV Programing'\n",
    "org = (50, 100)\n",
    "\n",
    "font = cv2.FONT_HERSHEY_SIMPLEX\n",
    "# 폰트 사이트 : https://docs.opencv.org/4.5.2/d6/d6e/group__imgproc__draw.html\n",
    "\n",
    "cv2.putText(img, text, org, font, 1, (0,0,255), 2)\n",
    "\n",
    "size, baseline = cv2.getTextSize(text, font, 1, 2)\n",
    "\n",
    "cv2.imshow('img', img)\n",
    "cv2.waitKey()\n",
    "cv2.destroyAllWindows()"
   ]
  },
  {
   "cell_type": "code",
   "execution_count": 82,
   "id": "9bf75b52",
   "metadata": {},
   "outputs": [
    {
     "data": {
      "text/plain": [
       "(315, 22)"
      ]
     },
     "execution_count": 82,
     "metadata": {},
     "output_type": "execute_result"
    }
   ],
   "source": [
    "size # 글자크기"
   ]
  },
  {
   "cell_type": "code",
   "execution_count": 83,
   "id": "e1692af0",
   "metadata": {},
   "outputs": [
    {
     "data": {
      "text/plain": [
       "10"
      ]
     },
     "execution_count": 83,
     "metadata": {},
     "output_type": "execute_result"
    }
   ],
   "source": [
    "baseline # 50, 100 이라는 위치로 부터 이만큼의 높이란 뜻임"
   ]
  },
  {
   "cell_type": "code",
   "execution_count": 84,
   "id": "f2f4bc3a",
   "metadata": {},
   "outputs": [],
   "source": [
    "# 이제 사각형을 그려보자"
   ]
  },
  {
   "cell_type": "code",
   "execution_count": 85,
   "id": "af9d7609",
   "metadata": {},
   "outputs": [
    {
     "data": {
      "text/plain": [
       "365"
      ]
     },
     "execution_count": 85,
     "metadata": {},
     "output_type": "execute_result"
    }
   ],
   "source": [
    "org[0] + size[0]"
   ]
  },
  {
   "cell_type": "code",
   "execution_count": 87,
   "id": "1958248d",
   "metadata": {},
   "outputs": [
    {
     "data": {
      "text/plain": [
       "122"
      ]
     },
     "execution_count": 87,
     "metadata": {},
     "output_type": "execute_result"
    }
   ],
   "source": [
    "org[1] + size[1]"
   ]
  },
  {
   "cell_type": "code",
   "execution_count": 94,
   "id": "b8150f2e",
   "metadata": {},
   "outputs": [],
   "source": [
    "img = np.zeros((512, 512, 3), dtype = np.uint8) + 255\n",
    "\n",
    "text = 'OpenCV Programing'\n",
    "org = (50, 100)\n",
    "\n",
    "font = cv2.FONT_HERSHEY_SIMPLEX\n",
    "# 폰트 사이트 : https://docs.opencv.org/4.5.2/d6/d6e/group__imgproc__draw.html\n",
    "\n",
    "cv2.putText(img, text, org, font, 1, (0,0,255), 2)\n",
    "\n",
    "size, baseline = cv2.getTextSize(text, font, 1, 2)\n",
    "\n",
    "cv2.rectangle(img, org, (org[0] + size[0], org[1] - size[1]), (255, 0, 0))\n",
    "\n",
    "cv2.circle(img, org, 3, (0,255,0), 2)\n",
    "\n",
    "cv2.imshow('img', img)\n",
    "cv2.waitKey()\n",
    "cv2.destroyAllWindows()"
   ]
  },
  {
   "cell_type": "markdown",
   "id": "5752d692",
   "metadata": {},
   "source": [
    "- 실습 2 : 카운트다운 영상 만들기"
   ]
  },
  {
   "cell_type": "code",
   "execution_count": 97,
   "id": "86347270",
   "metadata": {},
   "outputs": [],
   "source": [
    "# 일단 캔버스 만들고\n",
    "# 중심점 잡고\n",
    "\n",
    "# 숫자와 원을 그린다음\n",
    "\n",
    "# 숫자는 5에서 1로 줄어들게 for문 반복시키고\n",
    "# 원은 점점 작아지게 for문 반복시킨 뒤\n",
    "\n",
    "# 다 진행되면 자동으로 꺼지게 설정하고\n",
    "# 진행된건 동영상으로 녹화되게 하면 끝"
   ]
  },
  {
   "cell_type": "code",
   "execution_count": 102,
   "id": "2fea99a2",
   "metadata": {},
   "outputs": [],
   "source": [
    "size2 = 300\n",
    "fourcc = cv2.VideoWriter_fourcc(*'XVID') \n",
    "fps = 1\n",
    "out = cv2.VideoWriter('./out/countdown.mp4', fourcc, fps, (512, 512))\n",
    "\n",
    "for i in range(5, -1, -1):\n",
    "    img = np.zeros((512, 512, 3), dtype=np.uint8) + 255 \n",
    "    cx, cy = img.shape[0] // 2, img.shape[1] // 2\n",
    "    text = str(i)\n",
    "    font = cv2.FONT_HERSHEY_SIMPLEX\n",
    "    size, baseline = cv2.getTextSize(text, font, 8, 2)\n",
    "    \n",
    "    org = cx-(size[0]//2), cy+(size[1]//2)\n",
    "    cv2.putText(img, text, org, font, 8, (0, 0, 0), 2, cv2.LINE_AA)\n",
    "\n",
    "    cv2.circle(img, (cx, cy), size2, (0, 255, 255), 2)\n",
    "    size2 -= 40\n",
    "    cv2.imshow('img', img)\n",
    "    out.write(img)\n",
    "    cv2.waitKey(1000)\n",
    "    \n",
    "cv2.waitKey(1000)%%!\n",
    "out.release()\n",
    "cv2.destroyAllWindows()"
   ]
  },
  {
   "cell_type": "code",
   "execution_count": null,
   "id": "5eff7489",
   "metadata": {},
   "outputs": [],
   "source": []
  }
 ],
 "metadata": {
  "kernelspec": {
   "display_name": "Python 3",
   "language": "python",
   "name": "python3"
  },
  "language_info": {
   "codemirror_mode": {
    "name": "ipython",
    "version": 3
   },
   "file_extension": ".py",
   "mimetype": "text/x-python",
   "name": "python",
   "nbconvert_exporter": "python",
   "pygments_lexer": "ipython3",
   "version": "3.8.8"
  }
 },
 "nbformat": 4,
 "nbformat_minor": 5
}
